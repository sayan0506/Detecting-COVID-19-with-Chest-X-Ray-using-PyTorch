{
  "nbformat": 4,
  "nbformat_minor": 0,
  "metadata": {
    "colab": {
      "name": "Detecting COVID-19 with Chest X-Ray using PyTorch.ipynb",
      "provenance": [],
      "toc_visible": true,
      "mount_file_id": "112p4e635mKi_1SgbOlGL3Y9z3U0_7tXI",
      "authorship_tag": "ABX9TyNbs/np6oYZIhCAHC96RW+r",
      "include_colab_link": true
    },
    "kernelspec": {
      "name": "python3",
      "display_name": "Python 3"
    }
  },
  "cells": [
    {
      "cell_type": "markdown",
      "metadata": {
        "id": "view-in-github",
        "colab_type": "text"
      },
      "source": [
        "<a href=\"https://colab.research.google.com/github/sayan0506/Detecting-COVID-19-with-Chest-X-Ray-using-PyTorch/blob/main/Detecting_COVID_19_with_Chest_X_Ray_using_PyTorch.ipynb\" target=\"_parent\"><img src=\"https://colab.research.google.com/assets/colab-badge.svg\" alt=\"Open In Colab\"/></a>"
      ]
    },
    {
      "cell_type": "markdown",
      "metadata": {
        "id": "lxrbEHjI20FD"
      },
      "source": [
        "#**Detecting COVID-19 with Chest X-Ray using Pytorch**\n",
        "\n",
        "Image classification of chest X rays consisting of three classes: Normal, Viral Pneumonia, COVID-19\n",
        "\n",
        "Dataset is a custom dataset from [COVID-19 Radiography Database](https://www.kaggle.com/tawsifurrahman/covid19-radiography-database) from Kaggle."
      ]
    },
    {
      "cell_type": "markdown",
      "metadata": {
        "id": "2Mv_sVg93VCM"
      },
      "source": [
        "# Importing Libraries"
      ]
    },
    {
      "cell_type": "code",
      "metadata": {
        "id": "jvyJ8f-C2xr4",
        "outputId": "2ea35a31-9a63-4bd0-a7ed-53e654fd24e8",
        "colab": {
          "base_uri": "https://localhost:8080/"
        }
      },
      "source": [
        "import os\n",
        "import shutil\n",
        "import random\n",
        "import torch\n",
        "import torchvision\n",
        "import numpy as np\n",
        "\n",
        "from matplotlib import pyplot as plt\n",
        "\n",
        "print('Using PyTorch version', torch.__version__)"
      ],
      "execution_count": 2,
      "outputs": [
        {
          "output_type": "stream",
          "text": [
            "Using PyTorch version 1.7.0+cu101\n"
          ],
          "name": "stdout"
        }
      ]
    },
    {
      "cell_type": "code",
      "metadata": {
        "id": "DZFRh9j63PF6"
      },
      "source": [
        ""
      ],
      "execution_count": null,
      "outputs": []
    }
  ]
}